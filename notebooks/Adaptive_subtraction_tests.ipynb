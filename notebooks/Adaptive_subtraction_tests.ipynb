{
 "cells": [
  {
   "cell_type": "markdown",
   "id": "30a5c378",
   "metadata": {},
   "source": [
    "In this notebook we do many tests on the ADMM adaptive subtraction changing input parameters"
   ]
  },
  {
   "cell_type": "code",
   "execution_count": 1,
   "id": "9b336a2c",
   "metadata": {},
   "outputs": [],
   "source": [
    "%load_ext autoreload\n",
    "%autoreload 2\n",
    "%matplotlib inline\n",
    "\n",
    "import numpy as np\n",
    "import matplotlib.pyplot as plt\n",
    "\n",
    "import time\n",
    "import warnings\n",
    "warnings.filterwarnings('ignore')\n",
    "\n",
    "from read_gathers import read_gathers\n",
    "from adaptive_subtraction_3d import adaptive_subtraction_3d\n",
    "from adaptive_subtraction_qc import adaptive_subtraction_qc"
   ]
  },
  {
   "cell_type": "markdown",
   "id": "63e02867",
   "metadata": {},
   "source": [
    "Import cube of total data"
   ]
  },
  {
   "cell_type": "code",
   "execution_count": 2,
   "id": "fb4ef232",
   "metadata": {},
   "outputs": [],
   "source": [
    "filename = 'Data/Voring/shots.inter.su'\n",
    "\n",
    "data = read_gathers(filename)"
   ]
  },
  {
   "cell_type": "markdown",
   "id": "106b802d",
   "metadata": {},
   "source": [
    "Import cube of initial estimate of multiples"
   ]
  },
  {
   "cell_type": "code",
   "execution_count": 3,
   "id": "8b4cbe50",
   "metadata": {},
   "outputs": [],
   "source": [
    "filename = 'Data/Voring/shots.multwav.su'\n",
    "\n",
    "multiples = read_gathers(filename)"
   ]
  },
  {
   "cell_type": "markdown",
   "id": "4ed38d58",
   "metadata": {},
   "source": [
    "The next primaries and multiples will be the references for each parameter variation."
   ]
  },
  {
   "cell_type": "code",
   "execution_count": null,
   "id": "58069eb4",
   "metadata": {},
   "outputs": [],
   "source": [
    "start_time = time.time()/60\n",
    "\n",
    "# Same as the Adaptive_subtraction notebook\n",
    "prim_cube_ADMM_rho_1, mult_cube_ADMM_rho_1 = adaptive_subtraction_3d(data, multiples, nfilt=11, solver='ADMM',\n",
    "                                                 solver_dict={'rho':1e0,\n",
    "                                                              'nouter':2000, \n",
    "                                                              'ninner':5,\n",
    "                                                               'eps':0e0})\n",
    "print(\"--- %s minutes ---\" % (time.time()/60 - start_time))"
   ]
  },
  {
   "cell_type": "markdown",
   "id": "c168e1e0",
   "metadata": {},
   "source": [
    "First we vary $\\rho=1,2,10$"
   ]
  },
  {
   "cell_type": "code",
   "execution_count": null,
   "id": "1ecbbc24",
   "metadata": {},
   "outputs": [],
   "source": [
    "start_time = time.time()/60\n",
    "\n",
    "prim_cube_ADMM_rho_2, mult_cube_ADMM_rho_2 = adaptive_subtraction_3d(data, multiples, nfilt=11, solver='ADMM',\n",
    "                                                 solver_dict={'rho':2e0,\n",
    "                                                              'nouter':2000, \n",
    "                                                              'ninner':5,\n",
    "                                                               'eps':0e0})\n",
    "print(\"--- %s minutes ---\" % (time.time()/60 - start_time))"
   ]
  },
  {
   "cell_type": "code",
   "execution_count": null,
   "id": "d783fd30",
   "metadata": {},
   "outputs": [],
   "source": [
    "start_time = time.time()/60\n",
    "\n",
    "prim_cube_ADMM_rho_10, mult_cube_ADMM_rho_10 = adaptive_subtraction_3d(data, multiples, nfilt=11, solver='ADMM',\n",
    "                                                 solver_dict={'rho':10e0,\n",
    "                                                              'nouter':2000, \n",
    "                                                              'ninner':5,\n",
    "                                                               'eps':0e0})\n",
    "print(\"--- %s minutes ---\" % (time.time()/60 - start_time))"
   ]
  },
  {
   "cell_type": "markdown",
   "id": "6f249055",
   "metadata": {},
   "source": [
    "Second we have $\\epsilon=0,1,2,10$"
   ]
  },
  {
   "cell_type": "code",
   "execution_count": null,
   "id": "27aa0d3c",
   "metadata": {},
   "outputs": [],
   "source": [
    "start_time = time.time()/60\n",
    "\n",
    "prim_cube_ADMM_eps_1, mult_cube_ADMM_eps_1 = adaptive_subtraction_3d(data, multiples, nfilt=11, solver='ADMM',\n",
    "                                                 solver_dict={'rho':1e0,\n",
    "                                                              'nouter':2000, \n",
    "                                                              'ninner':5,\n",
    "                                                               'eps':1e0})\n",
    "print(\"--- %s minutes ---\" % (time.time()/60 - start_time))"
   ]
  },
  {
   "cell_type": "code",
   "execution_count": null,
   "id": "9fdeeb4c",
   "metadata": {},
   "outputs": [],
   "source": [
    "start_time = time.time()/60\n",
    "\n",
    "prim_cube_ADMM_eps_2, mult_cube_ADMM_eps_2 = adaptive_subtraction_3d(data, multiples, nfilt=11, solver='ADMM',\n",
    "                                                 solver_dict={'rho':1e0,\n",
    "                                                              'nouter':2000, \n",
    "                                                              'ninner':5,\n",
    "                                                               'eps':2e0})\n",
    "print(\"--- %s minutes ---\" % (time.time()/60 - start_time))"
   ]
  },
  {
   "cell_type": "code",
   "execution_count": null,
   "id": "5e9018ae",
   "metadata": {},
   "outputs": [],
   "source": [
    "start_time = time.time()/60\n",
    "\n",
    "prim_cube_ADMM_eps_10, mult_cube_ADMM_eps_10 = adaptive_subtraction_3d(data, multiples, nfilt=11, solver='ADMM',\n",
    "                                                 solver_dict={'rho':1e0,\n",
    "                                                              'nouter':2000, \n",
    "                                                              'ninner':5,\n",
    "                                                               'eps':10e0})\n",
    "print(\"--- %s minutes ---\" % (time.time()/60 - start_time))"
   ]
  },
  {
   "cell_type": "markdown",
   "id": "e576f897",
   "metadata": {},
   "source": [
    "Third we change the number of inner iterations: 5, 10, 20"
   ]
  },
  {
   "cell_type": "code",
   "execution_count": null,
   "id": "d943ceee",
   "metadata": {},
   "outputs": [],
   "source": [
    "start_time = time.time()/60\n",
    "\n",
    "prim_cube_ADMM_ninner_10, mult_cube_ADMM_ninner_10 = adaptive_subtraction_3d(data, multiples, nfilt=11, solver='ADMM',\n",
    "                                                 solver_dict={'rho':1e0,\n",
    "                                                              'nouter':2000, \n",
    "                                                              'ninner':10,\n",
    "                                                               'eps':0e0})\n",
    "print(\"--- %s minutes ---\" % (time.time()/60 - start_time))"
   ]
  },
  {
   "cell_type": "code",
   "execution_count": null,
   "id": "b6841f83",
   "metadata": {},
   "outputs": [],
   "source": [
    "start_time = time.time()/60\n",
    "\n",
    "prim_cube_ADMM_ninner_20, mult_cube_ADMM_ninner_20 = adaptive_subtraction_3d(data, multiples, nfilt=11, solver='ADMM',\n",
    "                                                 solver_dict={'rho':1e0,\n",
    "                                                              'nouter':2000, \n",
    "                                                              'ninner':20,\n",
    "                                                               'eps':0e0})\n",
    "print(\"--- %s minutes ---\" % (time.time()/60 - start_time))"
   ]
  },
  {
   "cell_type": "markdown",
   "id": "321f9644",
   "metadata": {},
   "source": [
    "At last we change the number of outer iterations: 1000, 2000, 3000"
   ]
  },
  {
   "cell_type": "code",
   "execution_count": null,
   "id": "0de443c8",
   "metadata": {},
   "outputs": [],
   "source": [
    "start_time = time.time()/60\n",
    "\n",
    "prim_cube_ADMM_nouter_1000, mult_cube_ADMM_nouter_1000 = adaptive_subtraction_3d(data, multiples, nfilt=11, solver='ADMM',\n",
    "                                                 solver_dict={'rho':1e0,\n",
    "                                                              'nouter':1000, \n",
    "                                                              'ninner':20,\n",
    "                                                               'eps':0e0})\n",
    "print(\"--- %s minutes ---\" % (time.time()/60 - start_time))"
   ]
  },
  {
   "cell_type": "code",
   "execution_count": null,
   "id": "90214534",
   "metadata": {},
   "outputs": [],
   "source": [
    "start_time = time.time()/60\n",
    "\n",
    "prim_cube_ADMM_nouter_3000, mult_cube_ADMM_nouter_3000 = adaptive_subtraction_3d(data, multiples, nfilt=11, solver='ADMM',\n",
    "                                                 solver_dict={'rho':1e0,\n",
    "                                                              'nouter':3000, \n",
    "                                                              'ninner':20,\n",
    "                                                               'eps':0e0})\n",
    "print(\"--- %s minutes ---\" % (time.time()/60 - start_time))"
   ]
  },
  {
   "cell_type": "markdown",
   "id": "81d04943",
   "metadata": {},
   "source": [
    "Let's save all arrays in an npz file for later retrieval. "
   ]
  },
  {
   "cell_type": "code",
   "execution_count": null,
   "id": "047a1730",
   "metadata": {},
   "outputs": [],
   "source": [
    "ADMM_tests_primaries = [prim_cube_ADMM_rho_1, \n",
    "                        prim_cube_ADMM_rho_2, \n",
    "                        prim_cube_ADMM_rho_10,\n",
    "                        prim_cube_ADMM_eps_1, \n",
    "                        prim_cube_ADMM_eps_2, \n",
    "                        prim_cube_ADMM_eps_10, \n",
    "                        prim_cube_ADMM_ninner_10, \n",
    "                        prim_cube_ADMM_ninner_20, \n",
    "                        prim_cube_ADMM_nouter_1000, \n",
    "                        prim_cube_ADMM_nouter_3000]\n",
    "ADMM_tests_multiples = [mult_cube_ADMM_rho_1, \n",
    "                        mult_cube_ADMM_rho_2, \n",
    "                        mult_cube_ADMM_rho_10,\n",
    "                        mult_cube_ADMM_eps_1, \n",
    "                        mult_cube_ADMM_eps_2, \n",
    "                        mult_cube_ADMM_eps_10, \n",
    "                        mult_cube_ADMM_ninner_10, \n",
    "                        mult_cube_ADMM_ninner_20, \n",
    "                        mult_cube_ADMM_nouter_1000, \n",
    "                        mult_cube_ADMM_nouter_3000]"
   ]
  },
  {
   "cell_type": "code",
   "execution_count": null,
   "id": "c60d1023",
   "metadata": {},
   "outputs": [],
   "source": [
    "np.savez('Data/ADMM_tests_primaries.npz', *ADMM_tests_primaries)\n",
    "np.savez('Data/ADMM_tests_multiples.npz', *ADMM_tests_multiples)"
   ]
  },
  {
   "cell_type": "markdown",
   "id": "b9bd5744",
   "metadata": {},
   "source": [
    "Load arrays stored in npz files"
   ]
  },
  {
   "cell_type": "code",
   "execution_count": null,
   "id": "4e40efc7",
   "metadata": {},
   "outputs": [],
   "source": [
    "# p_tests = np.load('Data/ADMM_tests_primaries.npz')\n",
    "# ADMM_tests_primaries = [p_tests[key] for key in p_tests]\n",
    "\n",
    "# m_tests = np.load('Data/ADMM_tests_multiples.npz')\n",
    "# ADMM_tests_multiples = [m_tests[key] for key in m_tests]"
   ]
  },
  {
   "cell_type": "markdown",
   "id": "95c4d4bf",
   "metadata": {},
   "source": [
    "Now we do qc on every parameter variation case to compare results with ccg number 150."
   ]
  },
  {
   "cell_type": "code",
   "execution_count": null,
   "id": "1a45be99",
   "metadata": {},
   "outputs": [],
   "source": [
    "gather_num = 150\n",
    "# Reference> rho=1, nouter=2000, ninner=5, eps=0\n",
    "ref = adaptive_subtraction_qc(data, prim_cube_ADMM_rho_1, mult_cube_ADMM_rho_1, gather_num, plot=False)\n",
    "# Varying rho\n",
    "rho_2 = adaptive_subtraction_qc(data, prim_cube_ADMM_rho_2, mult_cube_ADMM_rho_2, gather_num, plot=False)\n",
    "rho_10 = adaptive_subtraction_qc(data, prim_cube_ADMM_rho_10, mult_cube_ADMM_rho_10, gather_num, plot=False)\n",
    "# Varying eps\n",
    "eps_1 = adaptive_subtraction_qc(data, prim_cube_ADMM_eps_1, mult_cube_ADMM_eps_1, gather_num, plot=False)\n",
    "eps_2 = adaptive_subtraction_qc(data, prim_cube_ADMM_eps_2, mult_cube_ADMM_eps_2, gather_num, plot=False)\n",
    "eps_10 = adaptive_subtraction_qc(data, prim_cube_ADMM_eps_10, mult_cube_ADMM_eps_10, gather_num, plot=False)\n",
    "# Varyin ninner\n",
    "ninner_10 = adaptive_subtraction_qc(data, prim_cube_ADMM_ninner_10, mult_cube_ADMM_ninner_10, gather_num, plot=False)\n",
    "ninner_20 = adaptive_subtraction_qc(data, prim_cube_ADMM_ninner_20, mult_cube_ADMM_ninner_20, gather_num, plot=False)\n",
    "# Varying nouter\n",
    "nouter_1000 = adaptive_subtraction_qc(data, prim_cube_ADMM_nouter_1000, mult_cube_ADMM_nouter_1000, gather_num, plot=False)\n",
    "nouter_3000 = adaptive_subtraction_qc(data, prim_cube_ADMM_nouter_3000, mult_cube_ADMM_nouter_3000, gather_num, plot=False)\n"
   ]
  },
  {
   "cell_type": "markdown",
   "id": "37d9d17d",
   "metadata": {},
   "source": [
    "Plot the results"
   ]
  }
 ],
 "metadata": {
  "kernelspec": {
   "display_name": "Python 3 (ipykernel)",
   "language": "python",
   "name": "python3"
  },
  "language_info": {
   "codemirror_mode": {
    "name": "ipython",
    "version": 3
   },
   "file_extension": ".py",
   "mimetype": "text/x-python",
   "name": "python",
   "nbconvert_exporter": "python",
   "pygments_lexer": "ipython3",
   "version": "3.10.9"
  }
 },
 "nbformat": 4,
 "nbformat_minor": 5
}
